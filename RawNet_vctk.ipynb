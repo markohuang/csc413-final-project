{
 "cells": [
  {
   "cell_type": "code",
   "execution_count": null,
   "id": "structural-scott",
   "metadata": {},
   "outputs": [],
   "source": [
    "from tqdm import tqdm\n",
    "from collections import OrderedDict\n",
    "\n",
    "import os, pickle\n",
    "import argparse\n",
    "import json\n",
    "import numpy as np\n",
    "\n",
    "import librosa\n",
    "import scipy\n",
    "import torch\n",
    "import torch.nn as nn\n",
    "from torch.utils import data\n",
    "\n",
    "import sys\n",
    "DIR = '/CSC413/RawNet/python/RawNet2/Pre-trained_model'\n",
    "sys.path.append( DIR )\n",
    "from RawNet2 import RawNet as RawNet2\n",
    "\n",
    "from argparse import Namespace\n",
    "import glob, json\n",
    "\n",
    "MAGIC_NUMBER = 59049"
   ]
  },
  {
   "cell_type": "code",
   "execution_count": null,
   "id": "durable-vietnamese",
   "metadata": {},
   "outputs": [],
   "source": [
    "parser = argparse.ArgumentParser()\n",
    "args = Namespace(**{\n",
    "    \"bs\": 25,\n",
    "    \"lr\": 0.001,\n",
    "    \"nb_samp\": MAGIC_NUMBER,\n",
    "    \"name\": 'vctk-exp-16',\n",
    "    \"save_dir\": 'DNNs/',\n",
    "    \"DB\": '/',\n",
    "    \"window_size\": 0,\n",
    "    \"wd\": 0.001,\n",
    "    \"epoch\": 60,\n",
    "    \"optimizer\": 'Adam',\n",
    "    \"nb_worker\": 4,\n",
    "    \"temp\": .5,\n",
    "    \"seed\": 12315,\n",
    "    \"load_model_dir\": '/CSC413/RawNet/python/RawNet2/Pre-trained_model/rawnet2_best_weights.pt',\n",
    "    \"m_first_conv\": 251,\n",
    "    \"m_in_channels\": 1,\n",
    "    \"m_filts\": [128, [128,128], [128,256], [256,256]],\n",
    "    \"m_blocks\": [2, 4],\n",
    "    \"m_nb_fc_att_node\": [1],\n",
    "    \"m_nb_fc_node\": 1024,\n",
    "    \"m_gru_node\": 1024,\n",
    "    \"m_nb_gru_layer\": 1,\n",
    "    \"m_nb_samp\": MAGIC_NUMBER,\n",
    "    \"amsgrad\": True,\n",
    "    \"make_val_trial\": False,\n",
    "    \"debug\": False,\n",
    "    \"comet_disable\": False,\n",
    "    \"save_best_only\": False,\n",
    "    \"mg\": False,\n",
    "    \"load_model\": True,\n",
    "    \"reproducible\": True,\n",
    "})\n",
    "args.model = {}\n",
    "for k, v in vars(args).items():\n",
    "    if k[:2] == 'm_':\n",
    "        # print(k, v)\n",
    "        args.model[k[2:]] = v\n",
    "args.model['nb_classes'] = 6112"
   ]
  },
  {
   "cell_type": "markdown",
   "id": "irish-edward",
   "metadata": {},
   "source": [
    "### Train set here"
   ]
  },
  {
   "cell_type": "code",
   "execution_count": null,
   "id": "hungry-chemical",
   "metadata": {},
   "outputs": [],
   "source": [
    "class MultispeakerDataset(data.Dataset):\n",
    "    def __init__(self, index, path):\n",
    "        self.path = path\n",
    "        self.index = index\n",
    "        self.all_files = [(i, name) for (i, speaker) in enumerate(index) for name in speaker]\n",
    "\n",
    "    def __getitem__(self, index):\n",
    "        speaker_id, name = self.all_files[index]\n",
    "        speaker_onehot = (np.arange(len(self.index)) == speaker_id).astype(np.long)\n",
    "        audio = np.load(f'{self.path}/{speaker_id}/{name}.npy')\n",
    "        \n",
    "        audio = (audio / np.abs(audio.max())).astype(np.float32)\n",
    "        if audio.shape[0] < MAGIC_NUMBER:\n",
    "            audio = np.tile(audio, int(np.ceil(MAGIC_NUMBER/audio.shape[0])))\n",
    "        return audio[0:MAGIC_NUMBER], speaker_id\n",
    "\n",
    "    def __len__(self):\n",
    "        return len(self.all_files)\n",
    "\n",
    "    def num_speakers(self):\n",
    "        return len(self.index)\n"
   ]
  },
  {
   "cell_type": "code",
   "execution_count": null,
   "metadata": {},
   "outputs": [],
   "source": [
    "def keras_lr_decay(step, decay = 0.0001):\n",
    "    return 1./(1. + decay * step)"
   ]
  },
  {
   "cell_type": "code",
   "execution_count": null,
   "id": "baking-robert",
   "metadata": {},
   "outputs": [],
   "source": [
    "data_path = '/vctk/WaveRnn-Multispeaker'\n",
    "with open(f'{data_path}/index.pkl', 'rb') as f:\n",
    "    index = pickle.load(f)\n",
    "\n",
    "train_index = [[_ for o,_ in enumerate(x) if o % 10 != 0] for i, x in enumerate(index) if i < 16]\n",
    "val_index = [x[::10] for i, x in enumerate(index) if i < 16]\n",
    "\n",
    "trainset = MultispeakerDataset(train_index, data_path)\n",
    "trainset_gen = data.DataLoader(\n",
    "    trainset,\n",
    "    batch_size = args.bs,\n",
    "    shuffle = True,\n",
    "    drop_last = True,\n",
    "    num_workers = args.nb_worker)\n",
    "\n",
    "valset = MultispeakerDataset(val_index, data_path)\n",
    "valset_gen = data.DataLoader(\n",
    "    valset,\n",
    "    batch_size = args.bs,\n",
    "    shuffle = True,\n",
    "    drop_last = True,\n",
    "    num_workers = args.nb_worker)\n"
   ]
  },
  {
   "cell_type": "code",
   "execution_count": null,
   "id": "capital-biology",
   "metadata": {},
   "outputs": [],
   "source": [
    "#set save directory\n",
    "save_dir = args.save_dir + args.name + '/'\n",
    "os.makedirs(save_dir, exist_ok=True)\n",
    "os.makedirs(save_dir+'results/', exist_ok=True)\n",
    "os.makedirs(save_dir+'models/', exist_ok=True)"
   ]
  },
  {
   "cell_type": "code",
   "execution_count": null,
   "id": "acoustic-architect",
   "metadata": {},
   "outputs": [],
   "source": [
    "model = RawNet2(args.model, 'cuda').to('cuda')\n",
    "if args.load_model: model.load_state_dict(torch.load(args.load_model_dir))\n",
    "nb_params = sum([param.view(-1).size()[0] for param in model.parameters()])"
   ]
  },
  {
   "cell_type": "code",
   "execution_count": null,
   "id": "subjective-injection",
   "metadata": {},
   "outputs": [],
   "source": [
    "model.fc2_gru = nn.Linear(in_features = args.model['nb_fc_node'],\n",
    "    out_features = 16,\n",
    "    bias = True)\n",
    "model.cuda()"
   ]
  },
  {
   "cell_type": "code",
   "execution_count": null,
   "id": "optional-offering",
   "metadata": {},
   "outputs": [],
   "source": [
    "nb_params"
   ]
  },
  {
   "cell_type": "code",
   "execution_count": null,
   "id": "studied-circumstances",
   "metadata": {
    "collapsed": true
   },
   "outputs": [],
   "source": [
    "#set ojbective funtions\n",
    "criterion = {}\n",
    "criterion['cce'] = nn.CrossEntropyLoss()\n",
    "\n",
    "#set optimizer\n",
    "params = [\n",
    "    {\n",
    "        'params': [\n",
    "            param for name, param in model.named_parameters()\n",
    "            if 'bn' not in name\n",
    "        ]\n",
    "    },\n",
    "    {\n",
    "        'params': [\n",
    "            param for name, param in model.named_parameters()\n",
    "            if 'bn' in name\n",
    "        ],\n",
    "        'weight_decay':\n",
    "        0\n",
    "    },\n",
    "]"
   ]
  },
  {
   "cell_type": "code",
   "execution_count": null,
   "id": "fundamental-success",
   "metadata": {},
   "outputs": [],
   "source": [
    "optimizer = torch.optim.Adam(params,\n",
    "    lr = args.lr,\n",
    "    weight_decay = args.wd,\n",
    "    amsgrad = args.amsgrad)"
   ]
  },
  {
   "cell_type": "code",
   "execution_count": null,
   "id": "level-remark",
   "metadata": {},
   "outputs": [],
   "source": [
    "lr_scheduler = torch.optim.lr_scheduler.LambdaLR(optimizer, lr_lambda = lambda step: keras_lr_decay(step))"
   ]
  },
  {
   "cell_type": "markdown",
   "id": "utility-switch",
   "metadata": {},
   "source": [
    "### Training loop"
   ]
  },
  {
   "cell_type": "code",
   "execution_count": null,
   "id": "recent-taste",
   "metadata": {
    "scrolled": false
   },
   "outputs": [],
   "source": [
    "device = 'cuda'\n",
    "for epoch in range(args.epoch):\n",
    "    model.train()\n",
    "    corr = 0\n",
    "    with tqdm(total = len(trainset_gen)+1, leave=True) as pbar:\n",
    "        epoch_loss = 0\n",
    "        for m_batch, m_label in trainset_gen:\n",
    "            m_batch, m_label = m_batch.to(device), m_label.to(device)\n",
    "            output = model(m_batch, m_label)\n",
    "            cce_loss = criterion['cce'](output, m_label)\n",
    "            loss = cce_loss\n",
    "\n",
    "            optimizer.zero_grad()\n",
    "            loss.backward()\n",
    "            optimizer.step()\n",
    "            lr_scheduler.step()\n",
    "            \n",
    "            epoch_loss += loss.item()\n",
    "            _, pred = torch.max(output, 1)\n",
    "            corr += (m_label == pred).sum().item()\n",
    "            \n",
    "            pbar.set_description(f'epoch: {epoch+1}, cce: {cce_loss:.3f}')\n",
    "            pbar.update(1)\n",
    "                    \n",
    "        epoch_loss /= len(trainset_gen)\n",
    "        pbar.set_description(f'epoch: {epoch+1}, avg loss: {epoch_loss:.3f}, acc: {corr/len(trainset_gen):.2f}')\n",
    "        pbar.update(1)\n",
    "                    \n",
    "    if (epoch+1) % 10 == 0:\n",
    "        torch.save(model.state_dict(), save_dir +  f'models/TA_{epoch+1}.pt')\n",
    "        torch.save(optimizer.state_dict(), save_dir + 'models/best_opt_eval.pt')"
   ]
  },
  {
   "cell_type": "markdown",
   "id": "material-delicious",
   "metadata": {},
   "source": [
    "### Evaluation"
   ]
  },
  {
   "cell_type": "code",
   "execution_count": null,
   "id": "direct-maine",
   "metadata": {},
   "outputs": [],
   "source": [
    "def evaluate(model):\n",
    "    global valset, valset_gen\n",
    "    corr = 0\n",
    "    n = len(valset)\n",
    "    for m_batch, m_label in tqdm(valset_gen):\n",
    "        m_batch, m_label = m_batch.cuda(), m_label.cuda()\n",
    "        output = model(m_batch, m_label)\n",
    "        _, pred = torch.max(output, 1)\n",
    "        corr += (m_label == pred).sum().item()\n",
    "    print(f'accuracy: {corr*100/n:.2f}')"
   ]
  },
  {
   "cell_type": "code",
   "execution_count": null,
   "id": "verbal-request",
   "metadata": {},
   "outputs": [],
   "source": [
    "model = RawNet2(args.model, 'cuda')\n",
    "model.fc2_gru = nn.Linear(in_features = args.model['nb_fc_node'],\n",
    "    out_features = 16,\n",
    "    bias = True)\n",
    "model.load_state_dict(torch.load(save_dir +  f'models/TA_40.pt'))\n",
    "model.cuda()"
   ]
  },
  {
   "cell_type": "code",
   "execution_count": null,
   "id": "satisfied-fifty",
   "metadata": {},
   "outputs": [],
   "source": [
    "evaluate(model)"
   ]
  },
  {
   "cell_type": "markdown",
   "id": "legitimate-toyota",
   "metadata": {},
   "source": [
    "### Hyperparameter Search"
   ]
  },
  {
   "cell_type": "code",
   "execution_count": null,
   "id": "executed-filter",
   "metadata": {},
   "outputs": [],
   "source": [
    "\n",
    "def evaluate(parametrization={}):\n",
    "    args = parametrization\n",
    "    myIndex = open_dir('index')\n",
    "    myQueryParser = QueryParser(\"file_content\", schema=myIndex.schema, group=qparser.OrGroup)\n",
    "    mySearcher = myIndex.searcher(weighting=BM25F(B=args.get('B', 0.524), K1=args.get('K1', 3)))\n",
    "    res = pyTrecEval(TOPIC_FILE, QRELS_FILE, myQueryParser, mySearcher)\n",
    "    return acc"
   ]
  }
 ],
 "metadata": {
  "kernelspec": {
   "display_name": "Python 3",
   "language": "python",
   "name": "python3"
  },
  "language_info": {
   "codemirror_mode": {
    "name": "ipython",
    "version": 3
   },
   "file_extension": ".py",
   "mimetype": "text/x-python",
   "name": "python",
   "nbconvert_exporter": "python",
   "pygments_lexer": "ipython3",
   "version": "3.7.3"
  }
 },
 "nbformat": 4,
 "nbformat_minor": 5
}
